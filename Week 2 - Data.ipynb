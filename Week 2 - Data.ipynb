{
    "cells": [
        {
            "cell_type": "markdown",
            "metadata": {
                "collapsed": true
            },
            "source": "# Data"
        },
        {
            "cell_type": "markdown",
            "metadata": {},
            "source": "- Government of UK open data\n    - HM Land Registry / Price Paid Data\n    - Helps obtaining location coordinates \n- Type\n    - CSV \n    - JSON\n- Description\n    - Price on property sales\n    - Location: England\n    - Includes: received transactions at HM Land Registry\n    - Source: \n        - http://landregistry.data.gov.uk/\n        - https://foursquare.com/\n- Platform\n    - IBM Cloud for Data \u2013 Jupyter Notebooks\n- Google Maps Geocoding API\n- Google Cloud Platform\n"
        }
    ],
    "metadata": {
        "kernelspec": {
            "display_name": "Python 3.6",
            "language": "python",
            "name": "python3"
        },
        "language_info": {
            "codemirror_mode": {
                "name": "ipython",
                "version": 3
            },
            "file_extension": ".py",
            "mimetype": "text/x-python",
            "name": "python",
            "nbconvert_exporter": "python",
            "pygments_lexer": "ipython3",
            "version": "3.6.9"
        }
    },
    "nbformat": 4,
    "nbformat_minor": 1
}