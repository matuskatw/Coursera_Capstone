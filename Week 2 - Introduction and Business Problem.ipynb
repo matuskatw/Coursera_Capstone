{
    "cells": [
        {
            "cell_type": "markdown",
            "metadata": {
                "collapsed": true
            },
            "source": "# INTRODUCTION AND BUSINESS PROBLEM"
        },
        {
            "cell_type": "markdown",
            "metadata": {},
            "source": "The main benefits of living in London include access to a great public transport system, job opportunities, exceptional cultural, and musical entertainment. The main disadvantages of London include expensive housing, traveling in rush hour, pollution, and tourists. There Is a high variation on budgets depending on the people\u2019s needs, and so it\u2019s not easy to find a suitable place to accommodate different kind of families. The price on London housing suffers from high cost so every client would want to know the difference in price and characteristics to make an optimal decision. Nonetheless, it\u2019s a important factor to consider be near locations such as restaurants, malls, shops, hospitals, education centers. "
        },
        {
            "cell_type": "markdown",
            "metadata": {},
            "source": "Using data science techniques, we can know very useful information about the current pricing depending on location and the other factors mentioned above. "
        }
    ],
    "metadata": {
        "kernelspec": {
            "display_name": "Python 3.6",
            "language": "python",
            "name": "python3"
        },
        "language_info": {
            "codemirror_mode": {
                "name": "ipython",
                "version": 3
            },
            "file_extension": ".py",
            "mimetype": "text/x-python",
            "name": "python",
            "nbconvert_exporter": "python",
            "pygments_lexer": "ipython3",
            "version": "3.6.9"
        }
    },
    "nbformat": 4,
    "nbformat_minor": 1
}